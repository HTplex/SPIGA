{
 "cells": [
  {
   "cell_type": "code",
   "execution_count": 3,
   "id": "78463639-374c-4421-898f-1f98b7b18af7",
   "metadata": {},
   "outputs": [
    {
     "name": "stderr",
     "output_type": "stream",
     "text": [
      "  0%|                                                            | 12/19123 [00:08<3:48:50,  1.39it/s]\n"
     ]
    },
    {
     "ename": "FileNotFoundError",
     "evalue": "[Errno 2] No such file or directory: '/data/datasets_v2/faces_v3/2021-06-06_5.json'",
     "output_type": "error",
     "traceback": [
      "\u001b[0;31m---------------------------------------------------------------------------\u001b[0m",
      "\u001b[0;31mFileNotFoundError\u001b[0m                         Traceback (most recent call last)",
      "Cell \u001b[0;32mIn[3], line 17\u001b[0m\n\u001b[1;32m     15\u001b[0m \u001b[38;5;28;01mfor\u001b[39;00m video_path \u001b[38;5;129;01min\u001b[39;00m tqdm(video_paths):\n\u001b[1;32m     16\u001b[0m     save_path \u001b[38;5;241m=\u001b[39m join(data_root,\u001b[38;5;124m\"\u001b[39m\u001b[38;5;124mmouth_crops\u001b[39m\u001b[38;5;124m\"\u001b[39m,basename(video_path))\n\u001b[0;32m---> 17\u001b[0m     fc \u001b[38;5;241m=\u001b[39m \u001b[43mFaceCropper\u001b[49m\u001b[43m(\u001b[49m\u001b[43mdata_root\u001b[49m\u001b[43m,\u001b[49m\u001b[43mvideo_path\u001b[49m\u001b[43m)\u001b[49m\n\u001b[1;32m     18\u001b[0m     process_video(video_path,save_path,fc\u001b[38;5;241m.\u001b[39mprocess_face_video)\n",
      "File \u001b[0;32m~/dev/SPIGA/data_process_ops.py:102\u001b[0m, in \u001b[0;36mFaceCropper.__init__\u001b[0;34m(self, data_root, video_path)\u001b[0m\n\u001b[1;32m    100\u001b[0m \u001b[38;5;28mself\u001b[39m\u001b[38;5;241m.\u001b[39mjson_path \u001b[38;5;241m=\u001b[39m join(data_root,\u001b[38;5;124m\"\u001b[39m\u001b[38;5;124mfaces_v3\u001b[39m\u001b[38;5;124m\"\u001b[39m,basename(video_path)[:\u001b[38;5;241m-\u001b[39m\u001b[38;5;241m4\u001b[39m]\u001b[38;5;241m+\u001b[39m\u001b[38;5;124m\"\u001b[39m\u001b[38;5;124m.json\u001b[39m\u001b[38;5;124m\"\u001b[39m)\n\u001b[1;32m    101\u001b[0m \u001b[38;5;28mself\u001b[39m\u001b[38;5;241m.\u001b[39mdata \u001b[38;5;241m=\u001b[39m []\n\u001b[0;32m--> 102\u001b[0m \u001b[38;5;28;01mwith\u001b[39;00m \u001b[38;5;28;43mopen\u001b[39;49m\u001b[43m(\u001b[49m\u001b[38;5;28;43mself\u001b[39;49m\u001b[38;5;241;43m.\u001b[39;49m\u001b[43mjson_path\u001b[49m\u001b[43m,\u001b[49m\u001b[43m \u001b[49m\u001b[38;5;124;43m'\u001b[39;49m\u001b[38;5;124;43mr\u001b[39;49m\u001b[38;5;124;43m'\u001b[39;49m\u001b[43m)\u001b[49m \u001b[38;5;28;01mas\u001b[39;00m fp:\n\u001b[1;32m    103\u001b[0m     \u001b[38;5;28mself\u001b[39m\u001b[38;5;241m.\u001b[39mdata \u001b[38;5;241m=\u001b[39m json\u001b[38;5;241m.\u001b[39mload(fp)\n",
      "\u001b[0;31mFileNotFoundError\u001b[0m: [Errno 2] No such file or directory: '/data/datasets_v2/faces_v3/2021-06-06_5.json'"
     ]
    }
   ],
   "source": [
    "import cv2\n",
    "import numpy as np\n",
    "import ht2\n",
    "from glob import glob\n",
    "from os.path import join,basename\n",
    "import json\n",
    "from pprint import pprint\n",
    "from data_process_ops import *\n",
    "import os\n",
    "from tqdm import tqdm\n",
    "\n",
    "data_root = \"/data/datasets_v2/\"\n",
    "os.makedirs(join(data_root,\"mouth_crops\"),exist_ok=True)\n",
    "video_paths = glob(join(data_root,\"clip_videos_v3/*.mp4\"))\n",
    "for video_path in tqdm(video_paths):\n",
    "    try:\n",
    "        save_path = join(data_root,\"mouth_crops\",basename(video_path))\n",
    "        fc = FaceCropper(data_root,video_path)\n",
    "        process_video(video_path,save_path,fc.process_face_video)\n",
    "    except:\n",
    "        pass"
   ]
  },
  {
   "cell_type": "code",
   "execution_count": null,
   "id": "cd26cba7-6bbc-455c-8731-d513c841f089",
   "metadata": {},
   "outputs": [],
   "source": [
    "\n",
    "\n",
    "\n"
   ]
  },
  {
   "cell_type": "code",
   "execution_count": null,
   "id": "288c22a5-3857-421e-9b5f-4f40d9613999",
   "metadata": {},
   "outputs": [],
   "source": [
    "                "
   ]
  }
 ],
 "metadata": {
  "kernelspec": {
   "display_name": "Python 3 (ipykernel)",
   "language": "python",
   "name": "python3"
  },
  "language_info": {
   "codemirror_mode": {
    "name": "ipython",
    "version": 3
   },
   "file_extension": ".py",
   "mimetype": "text/x-python",
   "name": "python",
   "nbconvert_exporter": "python",
   "pygments_lexer": "ipython3",
   "version": "3.9.18"
  }
 },
 "nbformat": 4,
 "nbformat_minor": 5
}
